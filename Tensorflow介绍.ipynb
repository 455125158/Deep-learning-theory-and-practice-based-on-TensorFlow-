{
 "cells": [
  {
   "cell_type": "markdown",
   "metadata": {},
   "source": [
    "## Tensorflow 介绍\n",
    "\n",
    "Alpha Go? 无人驾驶? 这些最近兴起的玩意都是什么?\n",
    "\n",
    "人工智能? 可以帮我写代码了? 我要失业了?!!!\n",
    "\n",
    "相信在这些时代热点的冲击下, 每个人都好奇着这波浪潮来自何方, 又将去往何处.\n",
    "\n",
    "面对这些好奇, 这门课程将提供一块木板, 再加上一把锤子, 还有一块罗盘, 和大家一起带着一颗勇敢而好奇的心踏浪前进."
   ]
  },
  {
   "cell_type": "markdown",
   "metadata": {},
   "source": [
    "### 什么是Tensorflow\n",
    "<figure class=\"half\">\n",
    "    <img src=\"https://image.ibb.co/gToehm/tensorflow_logo.png\", align=\"left\">\n",
    "    <img src=\"https://image.ibb.co/csLs2m/tensors_flowing.gif\", width=\"250\" align=\"bottom\">\n",
    "</figure>"
   ]
  },
  {
   "cell_type": "markdown",
   "metadata": {},
   "source": [
    "> TensorFlow™ 是一个使用数据流图进行数值计算的开源软件库。图中的节点代表数学运算， 而图中的边则代表在这些节点之间传递的多维数组（张量）。\n",
    "这种灵活的架构可让您使用一个 API 将计算工作部署到桌面设备、服务器或者移动设备中的一个或多个 CPU 或 GPU。 TensorFlow 最初是由 Google 机器智能\n",
    "研究部门的 Google Brain 团队中的研究人员和工程师开发的，用于进行机器学习和深度神经网络研究， 但它是一个非常基础的系统，因此也可以应用于众多\n",
    "其他领域。\n",
    "\n",
    "这段话摘自[Tensorflow中文官网](https://tensorflow.google.cn), 在课程一开始, 大家可以把它当作一个比较成熟, 非常流行, 功能非常强大的工具. 而这个工具\n",
    "\n",
    "在我们日后的学习中会一直出现, 大家对他的理解也会日渐深刻. 而在这里, 我们把它当成一把锤子.\n",
    "\n",
    "当然, 这把锤子也需要一个用武之地, 那就是深度学习. 对深度学习的概念已经了然于胸的小伙伴来说, 这门课程更像是一门实验课, 而如果对于这个概念不是很\n",
    "\n",
    "明白的话, 那我们恰好可以将实践与理论相结合, 相信也会获得不小的收获吧."
   ]
  },
  {
   "cell_type": "markdown",
   "metadata": {},
   "source": [
    "### Tensorflow近况\n",
    "\n",
    "既然Tensorflow是一个非常使用的工具,那么它的当前使用情况是如何的呢?\n",
    "\n",
    "下面这张图来自[百度搜索指数](http://index.baidu.com/?tpl=trend&type=0&area=0&time=13&word=tensorflow%2Ctorch%2Bpytorch)\n",
    "\n",
    "<center>\n",
    "\n",
    "<img src=\"https://image.ibb.co/fU98a6/baidu_index.png\" title=\"baidu_index\" width=\"700\" />\n",
    "\n",
    "</center>\n",
    "\n",
    "\n",
    "从这张图可以看出来, 自Tensorflow于2015年面世伊始, 在中国网民中的关注度一直持续上升, 并且逐步超越其他深度学习框架, 可以说这就是当今最热门的深度学习框架了.\n",
    "\n",
    "而在商业领域, Tensorflow的应用领域也是十分广泛. 比如大名鼎鼎的 DeepMind 公司开发的围棋软件 AlphaGoZero 就采用了 Tensorflow 作为其底层编程框架, 取得了举世瞩目的成就. 可口可乐公司也利用Tensorflow 帮助他们克服了实现移动购买凭证的困难, 从而使得人们更加方便快捷的参与可口可乐公司的促销活动中去. 这样的例子还有很多, 同样地, 大家可以去[Tensorflow中文官网](https://tensorflow.google.cn) 发现它更多的应用实例."
   ]
  },
  {
   "cell_type": "markdown",
   "metadata": {},
   "source": [
    "### Tensorflow应用例子\n",
    "\n",
    "Tensorflow在深度学习领域的应用范围非常广泛, 常见的如图像识别, 目标检测, 机器翻译, 强化学习等等都有它的代表作. 下面我们给大家提供一些例子, 可以丰富大家的视野, 提升我们对接下来将要进行的学习的热情!\n",
    "\n",
    "- [tensorflow_playground](http://playground.tensorflow.org/)\n",
    "- [Oxford 识别花](http://zeus.robots.ox.ac.uk/flower_demo/)\n",
    "- [Google 机器翻译](https://www.leiphone.com/news/201611/M8Vco0xHWUELysQX.html)\n",
    "- [挑战星际争霸](https://www.jiqizhixin.com/articles/2017-08-10-2)"
   ]
  }
 ],
 "metadata": {
  "kernelspec": {
   "display_name": "Python 2",
   "language": "python",
   "name": "python2"
  },
  "language_info": {
   "codemirror_mode": {
    "name": "ipython",
    "version": 2
   },
   "file_extension": ".py",
   "mimetype": "text/x-python",
   "name": "python",
   "nbconvert_exporter": "python",
   "pygments_lexer": "ipython2",
   "version": "2.7.12"
  }
 },
 "nbformat": 4,
 "nbformat_minor": 2
}
